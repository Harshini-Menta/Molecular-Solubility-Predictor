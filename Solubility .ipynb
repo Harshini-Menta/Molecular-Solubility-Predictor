{
 "cells": [
  {
   "cell_type": "markdown",
   "id": "92b49a9c",
   "metadata": {},
   "source": [
    "### Importing Libraries\n"
   ]
  },
  {
   "cell_type": "code",
   "execution_count": 1,
   "id": "6ac3a52f",
   "metadata": {},
   "outputs": [],
   "source": [
    "import pandas as pd\n",
    "import numpy as np\n",
    "import seaborn as sns\n",
    "import matplotlib.pyplot as plt\n",
    "import warnings\n",
    "warnings.filterwarnings(\"ignore\")\n",
    "sns.set(style='whitegrid')\n"
   ]
  },
  {
   "cell_type": "markdown",
   "id": "e8ada81a",
   "metadata": {},
   "source": [
    "### Building Machine Learning Model\n"
   ]
  },
  {
   "cell_type": "code",
   "execution_count": 2,
   "id": "36076eba",
   "metadata": {},
   "outputs": [],
   "source": [
    "from sklearn.preprocessing import StandardScaler\n",
    "from sklearn.model_selection import train_test_split, cross_val_score\n",
    "import statsmodels.api as sm\n",
    "from sklearn.linear_model import LinearRegression\n",
    "from sklearn.metrics import r2_score, mean_absolute_error\n",
    "from sklearn.ensemble import RandomForestRegressor"
   ]
  },
  {
   "cell_type": "code",
   "execution_count": 3,
   "id": "026772b9",
   "metadata": {},
   "outputs": [],
   "source": [
    "df_final = pd.read_csv('delaney_mordred_truncated.csv')"
   ]
  },
  {
   "cell_type": "code",
   "execution_count": 4,
   "id": "cc0ea76f",
   "metadata": {},
   "outputs": [
    {
     "data": {
      "text/html": [
       "<div>\n",
       "<style scoped>\n",
       "    .dataframe tbody tr th:only-of-type {\n",
       "        vertical-align: middle;\n",
       "    }\n",
       "\n",
       "    .dataframe tbody tr th {\n",
       "        vertical-align: top;\n",
       "    }\n",
       "\n",
       "    .dataframe thead th {\n",
       "        text-align: right;\n",
       "    }\n",
       "</style>\n",
       "<table border=\"1\" class=\"dataframe\">\n",
       "  <thead>\n",
       "    <tr style=\"text-align: right;\">\n",
       "      <th></th>\n",
       "      <th>Compound ID</th>\n",
       "      <th>SMILES</th>\n",
       "      <th>measured log(solubility:mol/L)</th>\n",
       "      <th>nBase</th>\n",
       "      <th>SpAbs_A</th>\n",
       "      <th>SpMax_A</th>\n",
       "      <th>SpMAD_A</th>\n",
       "      <th>VR1_A</th>\n",
       "      <th>nAromAtom</th>\n",
       "      <th>nSpiro</th>\n",
       "      <th>...</th>\n",
       "      <th>JGI3</th>\n",
       "      <th>JGI4</th>\n",
       "      <th>JGI5</th>\n",
       "      <th>JGI6</th>\n",
       "      <th>JGI7</th>\n",
       "      <th>JGI8</th>\n",
       "      <th>JGI9</th>\n",
       "      <th>JGI10</th>\n",
       "      <th>Lipinski</th>\n",
       "      <th>GhoseFilter</th>\n",
       "    </tr>\n",
       "  </thead>\n",
       "  <tbody>\n",
       "    <tr>\n",
       "      <th>0</th>\n",
       "      <td>1,1,1,2-Tetrachloroethane</td>\n",
       "      <td>ClCC(Cl)(Cl)Cl</td>\n",
       "      <td>-2.18</td>\n",
       "      <td>0</td>\n",
       "      <td>5.818626</td>\n",
       "      <td>2.074313</td>\n",
       "      <td>0.969771</td>\n",
       "      <td>11.637367</td>\n",
       "      <td>0</td>\n",
       "      <td>0</td>\n",
       "      <td>...</td>\n",
       "      <td>0.0</td>\n",
       "      <td>0.0</td>\n",
       "      <td>0.0</td>\n",
       "      <td>0.0</td>\n",
       "      <td>0.0</td>\n",
       "      <td>0.0</td>\n",
       "      <td>0.0</td>\n",
       "      <td>0.0</td>\n",
       "      <td>1</td>\n",
       "      <td>0</td>\n",
       "    </tr>\n",
       "    <tr>\n",
       "      <th>1</th>\n",
       "      <td>1,1,1-Trichloroethane</td>\n",
       "      <td>CC(Cl)(Cl)Cl</td>\n",
       "      <td>-2.00</td>\n",
       "      <td>0</td>\n",
       "      <td>4.000000</td>\n",
       "      <td>2.000000</td>\n",
       "      <td>0.800000</td>\n",
       "      <td>8.000000</td>\n",
       "      <td>0</td>\n",
       "      <td>0</td>\n",
       "      <td>...</td>\n",
       "      <td>0.0</td>\n",
       "      <td>0.0</td>\n",
       "      <td>0.0</td>\n",
       "      <td>0.0</td>\n",
       "      <td>0.0</td>\n",
       "      <td>0.0</td>\n",
       "      <td>0.0</td>\n",
       "      <td>0.0</td>\n",
       "      <td>1</td>\n",
       "      <td>0</td>\n",
       "    </tr>\n",
       "    <tr>\n",
       "      <th>2</th>\n",
       "      <td>1,1,2,2-Tetrachloroethane</td>\n",
       "      <td>ClC(Cl)C(Cl)Cl</td>\n",
       "      <td>-1.74</td>\n",
       "      <td>0</td>\n",
       "      <td>6.000000</td>\n",
       "      <td>2.000000</td>\n",
       "      <td>1.000000</td>\n",
       "      <td>11.530010</td>\n",
       "      <td>0</td>\n",
       "      <td>0</td>\n",
       "      <td>...</td>\n",
       "      <td>0.0</td>\n",
       "      <td>0.0</td>\n",
       "      <td>0.0</td>\n",
       "      <td>0.0</td>\n",
       "      <td>0.0</td>\n",
       "      <td>0.0</td>\n",
       "      <td>0.0</td>\n",
       "      <td>0.0</td>\n",
       "      <td>1</td>\n",
       "      <td>0</td>\n",
       "    </tr>\n",
       "    <tr>\n",
       "      <th>3</th>\n",
       "      <td>1,1,2-Trichloroethane</td>\n",
       "      <td>ClCC(Cl)Cl</td>\n",
       "      <td>-1.48</td>\n",
       "      <td>0</td>\n",
       "      <td>5.226252</td>\n",
       "      <td>1.847759</td>\n",
       "      <td>1.045250</td>\n",
       "      <td>8.629874</td>\n",
       "      <td>0</td>\n",
       "      <td>0</td>\n",
       "      <td>...</td>\n",
       "      <td>0.0</td>\n",
       "      <td>0.0</td>\n",
       "      <td>0.0</td>\n",
       "      <td>0.0</td>\n",
       "      <td>0.0</td>\n",
       "      <td>0.0</td>\n",
       "      <td>0.0</td>\n",
       "      <td>0.0</td>\n",
       "      <td>1</td>\n",
       "      <td>0</td>\n",
       "    </tr>\n",
       "    <tr>\n",
       "      <th>4</th>\n",
       "      <td>1,1,2-Trichlorotrifluoroethane</td>\n",
       "      <td>FC(F)(Cl)C(F)(Cl)Cl</td>\n",
       "      <td>-3.04</td>\n",
       "      <td>0</td>\n",
       "      <td>7.211103</td>\n",
       "      <td>2.302776</td>\n",
       "      <td>0.901388</td>\n",
       "      <td>17.881697</td>\n",
       "      <td>0</td>\n",
       "      <td>0</td>\n",
       "      <td>...</td>\n",
       "      <td>0.0</td>\n",
       "      <td>0.0</td>\n",
       "      <td>0.0</td>\n",
       "      <td>0.0</td>\n",
       "      <td>0.0</td>\n",
       "      <td>0.0</td>\n",
       "      <td>0.0</td>\n",
       "      <td>0.0</td>\n",
       "      <td>1</td>\n",
       "      <td>0</td>\n",
       "    </tr>\n",
       "  </tbody>\n",
       "</table>\n",
       "<p>5 rows × 235 columns</p>\n",
       "</div>"
      ],
      "text/plain": [
       "                      Compound ID               SMILES  \\\n",
       "0       1,1,1,2-Tetrachloroethane       ClCC(Cl)(Cl)Cl   \n",
       "1           1,1,1-Trichloroethane         CC(Cl)(Cl)Cl   \n",
       "2       1,1,2,2-Tetrachloroethane       ClC(Cl)C(Cl)Cl   \n",
       "3           1,1,2-Trichloroethane           ClCC(Cl)Cl   \n",
       "4  1,1,2-Trichlorotrifluoroethane  FC(F)(Cl)C(F)(Cl)Cl   \n",
       "\n",
       "   measured log(solubility:mol/L)  nBase   SpAbs_A   SpMax_A   SpMAD_A  \\\n",
       "0                           -2.18      0  5.818626  2.074313  0.969771   \n",
       "1                           -2.00      0  4.000000  2.000000  0.800000   \n",
       "2                           -1.74      0  6.000000  2.000000  1.000000   \n",
       "3                           -1.48      0  5.226252  1.847759  1.045250   \n",
       "4                           -3.04      0  7.211103  2.302776  0.901388   \n",
       "\n",
       "       VR1_A  nAromAtom  nSpiro  ...  JGI3  JGI4  JGI5  JGI6  JGI7  JGI8  \\\n",
       "0  11.637367          0       0  ...   0.0   0.0   0.0   0.0   0.0   0.0   \n",
       "1   8.000000          0       0  ...   0.0   0.0   0.0   0.0   0.0   0.0   \n",
       "2  11.530010          0       0  ...   0.0   0.0   0.0   0.0   0.0   0.0   \n",
       "3   8.629874          0       0  ...   0.0   0.0   0.0   0.0   0.0   0.0   \n",
       "4  17.881697          0       0  ...   0.0   0.0   0.0   0.0   0.0   0.0   \n",
       "\n",
       "   JGI9  JGI10  Lipinski  GhoseFilter  \n",
       "0   0.0    0.0         1            0  \n",
       "1   0.0    0.0         1            0  \n",
       "2   0.0    0.0         1            0  \n",
       "3   0.0    0.0         1            0  \n",
       "4   0.0    0.0         1            0  \n",
       "\n",
       "[5 rows x 235 columns]"
      ]
     },
     "execution_count": 4,
     "metadata": {},
     "output_type": "execute_result"
    }
   ],
   "source": [
    "df_final.head()"
   ]
  },
  {
   "cell_type": "code",
   "execution_count": 5,
   "id": "b504f7a6",
   "metadata": {},
   "outputs": [],
   "source": [
    "y = df_final['measured log(solubility:mol/L)']"
   ]
  },
  {
   "cell_type": "markdown",
   "id": "fbfd2850",
   "metadata": {},
   "source": [
    "### Scaling the Datset"
   ]
  },
  {
   "cell_type": "code",
   "execution_count": 6,
   "id": "18cd87eb",
   "metadata": {},
   "outputs": [],
   "source": [
    "scaled_DF = pd.DataFrame(StandardScaler().fit_transform(df_final.iloc[:,3:]), columns=([df_final.iloc[:,3:].columns]))"
   ]
  },
  {
   "cell_type": "code",
   "execution_count": 7,
   "id": "e07a9bba",
   "metadata": {},
   "outputs": [
    {
     "data": {
      "text/html": [
       "<div>\n",
       "<style scoped>\n",
       "    .dataframe tbody tr th:only-of-type {\n",
       "        vertical-align: middle;\n",
       "    }\n",
       "\n",
       "    .dataframe tbody tr th {\n",
       "        vertical-align: top;\n",
       "    }\n",
       "\n",
       "    .dataframe thead tr th {\n",
       "        text-align: left;\n",
       "    }\n",
       "</style>\n",
       "<table border=\"1\" class=\"dataframe\">\n",
       "  <thead>\n",
       "    <tr>\n",
       "      <th></th>\n",
       "      <th>nBase</th>\n",
       "      <th>SpAbs_A</th>\n",
       "      <th>SpMax_A</th>\n",
       "      <th>SpMAD_A</th>\n",
       "      <th>VR1_A</th>\n",
       "      <th>nAromAtom</th>\n",
       "      <th>nSpiro</th>\n",
       "      <th>nBridgehead</th>\n",
       "      <th>nHetero</th>\n",
       "      <th>nN</th>\n",
       "      <th>...</th>\n",
       "      <th>JGI3</th>\n",
       "      <th>JGI4</th>\n",
       "      <th>JGI5</th>\n",
       "      <th>JGI6</th>\n",
       "      <th>JGI7</th>\n",
       "      <th>JGI8</th>\n",
       "      <th>JGI9</th>\n",
       "      <th>JGI10</th>\n",
       "      <th>Lipinski</th>\n",
       "      <th>GhoseFilter</th>\n",
       "    </tr>\n",
       "  </thead>\n",
       "  <tbody>\n",
       "    <tr>\n",
       "      <th>0</th>\n",
       "      <td>-0.077041</td>\n",
       "      <td>-1.175105</td>\n",
       "      <td>-0.580433</td>\n",
       "      <td>-2.070914</td>\n",
       "      <td>-0.054329</td>\n",
       "      <td>-0.998199</td>\n",
       "      <td>-0.083918</td>\n",
       "      <td>-0.115751</td>\n",
       "      <td>0.221643</td>\n",
       "      <td>-0.665609</td>\n",
       "      <td>...</td>\n",
       "      <td>-1.863644</td>\n",
       "      <td>-1.447338</td>\n",
       "      <td>-1.141275</td>\n",
       "      <td>-0.938260</td>\n",
       "      <td>-0.792040</td>\n",
       "      <td>-0.635966</td>\n",
       "      <td>-0.468026</td>\n",
       "      <td>-0.363983</td>\n",
       "      <td>0.332685</td>\n",
       "      <td>-0.836571</td>\n",
       "    </tr>\n",
       "    <tr>\n",
       "      <th>1</th>\n",
       "      <td>-0.077041</td>\n",
       "      <td>-1.376970</td>\n",
       "      <td>-0.836554</td>\n",
       "      <td>-3.581231</td>\n",
       "      <td>-0.054800</td>\n",
       "      <td>-0.998199</td>\n",
       "      <td>-0.083918</td>\n",
       "      <td>-0.115751</td>\n",
       "      <td>-0.134981</td>\n",
       "      <td>-0.665609</td>\n",
       "      <td>...</td>\n",
       "      <td>-1.863644</td>\n",
       "      <td>-1.447338</td>\n",
       "      <td>-1.141275</td>\n",
       "      <td>-0.938260</td>\n",
       "      <td>-0.792040</td>\n",
       "      <td>-0.635966</td>\n",
       "      <td>-0.468026</td>\n",
       "      <td>-0.363983</td>\n",
       "      <td>0.332685</td>\n",
       "      <td>-0.836571</td>\n",
       "    </tr>\n",
       "    <tr>\n",
       "      <th>2</th>\n",
       "      <td>-0.077041</td>\n",
       "      <td>-1.154972</td>\n",
       "      <td>-0.836554</td>\n",
       "      <td>-1.801990</td>\n",
       "      <td>-0.054342</td>\n",
       "      <td>-0.998199</td>\n",
       "      <td>-0.083918</td>\n",
       "      <td>-0.115751</td>\n",
       "      <td>0.221643</td>\n",
       "      <td>-0.665609</td>\n",
       "      <td>...</td>\n",
       "      <td>-1.863644</td>\n",
       "      <td>-1.447338</td>\n",
       "      <td>-1.141275</td>\n",
       "      <td>-0.938260</td>\n",
       "      <td>-0.792040</td>\n",
       "      <td>-0.635966</td>\n",
       "      <td>-0.468026</td>\n",
       "      <td>-0.363983</td>\n",
       "      <td>0.332685</td>\n",
       "      <td>-0.836571</td>\n",
       "    </tr>\n",
       "    <tr>\n",
       "      <th>3</th>\n",
       "      <td>-0.077041</td>\n",
       "      <td>-1.240858</td>\n",
       "      <td>-1.361255</td>\n",
       "      <td>-1.399434</td>\n",
       "      <td>-0.054718</td>\n",
       "      <td>-0.998199</td>\n",
       "      <td>-0.083918</td>\n",
       "      <td>-0.115751</td>\n",
       "      <td>-0.134981</td>\n",
       "      <td>-0.665609</td>\n",
       "      <td>...</td>\n",
       "      <td>-1.863644</td>\n",
       "      <td>-1.447338</td>\n",
       "      <td>-1.141275</td>\n",
       "      <td>-0.938260</td>\n",
       "      <td>-0.792040</td>\n",
       "      <td>-0.635966</td>\n",
       "      <td>-0.468026</td>\n",
       "      <td>-0.363983</td>\n",
       "      <td>0.332685</td>\n",
       "      <td>-0.836571</td>\n",
       "    </tr>\n",
       "    <tr>\n",
       "      <th>4</th>\n",
       "      <td>-0.077041</td>\n",
       "      <td>-1.020541</td>\n",
       "      <td>0.206966</td>\n",
       "      <td>-2.679264</td>\n",
       "      <td>-0.053520</td>\n",
       "      <td>-0.998199</td>\n",
       "      <td>-0.083918</td>\n",
       "      <td>-0.115751</td>\n",
       "      <td>0.934889</td>\n",
       "      <td>-0.665609</td>\n",
       "      <td>...</td>\n",
       "      <td>-1.863644</td>\n",
       "      <td>-1.447338</td>\n",
       "      <td>-1.141275</td>\n",
       "      <td>-0.938260</td>\n",
       "      <td>-0.792040</td>\n",
       "      <td>-0.635966</td>\n",
       "      <td>-0.468026</td>\n",
       "      <td>-0.363983</td>\n",
       "      <td>0.332685</td>\n",
       "      <td>-0.836571</td>\n",
       "    </tr>\n",
       "    <tr>\n",
       "      <th>...</th>\n",
       "      <td>...</td>\n",
       "      <td>...</td>\n",
       "      <td>...</td>\n",
       "      <td>...</td>\n",
       "      <td>...</td>\n",
       "      <td>...</td>\n",
       "      <td>...</td>\n",
       "      <td>...</td>\n",
       "      <td>...</td>\n",
       "      <td>...</td>\n",
       "      <td>...</td>\n",
       "      <td>...</td>\n",
       "      <td>...</td>\n",
       "      <td>...</td>\n",
       "      <td>...</td>\n",
       "      <td>...</td>\n",
       "      <td>...</td>\n",
       "      <td>...</td>\n",
       "      <td>...</td>\n",
       "      <td>...</td>\n",
       "      <td>...</td>\n",
       "    </tr>\n",
       "    <tr>\n",
       "      <th>1139</th>\n",
       "      <td>-0.077041</td>\n",
       "      <td>0.307854</td>\n",
       "      <td>-0.069105</td>\n",
       "      <td>-0.034574</td>\n",
       "      <td>-0.043812</td>\n",
       "      <td>-0.998199</td>\n",
       "      <td>-0.083918</td>\n",
       "      <td>-0.115751</td>\n",
       "      <td>1.648136</td>\n",
       "      <td>0.106660</td>\n",
       "      <td>...</td>\n",
       "      <td>-0.238822</td>\n",
       "      <td>-0.483302</td>\n",
       "      <td>-0.067147</td>\n",
       "      <td>0.924116</td>\n",
       "      <td>1.707763</td>\n",
       "      <td>0.978429</td>\n",
       "      <td>0.678936</td>\n",
       "      <td>-0.363983</td>\n",
       "      <td>0.332685</td>\n",
       "      <td>1.195355</td>\n",
       "    </tr>\n",
       "    <tr>\n",
       "      <th>1140</th>\n",
       "      <td>-0.077041</td>\n",
       "      <td>0.564533</td>\n",
       "      <td>0.932061</td>\n",
       "      <td>-0.076533</td>\n",
       "      <td>-0.042132</td>\n",
       "      <td>0.149864</td>\n",
       "      <td>-0.083918</td>\n",
       "      <td>-0.115751</td>\n",
       "      <td>0.934889</td>\n",
       "      <td>0.106660</td>\n",
       "      <td>...</td>\n",
       "      <td>1.635311</td>\n",
       "      <td>0.094811</td>\n",
       "      <td>0.667960</td>\n",
       "      <td>1.076249</td>\n",
       "      <td>1.045923</td>\n",
       "      <td>0.342555</td>\n",
       "      <td>-0.468026</td>\n",
       "      <td>-0.363983</td>\n",
       "      <td>0.332685</td>\n",
       "      <td>1.195355</td>\n",
       "    </tr>\n",
       "    <tr>\n",
       "      <th>1141</th>\n",
       "      <td>-0.077041</td>\n",
       "      <td>1.447647</td>\n",
       "      <td>0.824890</td>\n",
       "      <td>0.691743</td>\n",
       "      <td>-0.033104</td>\n",
       "      <td>2.063300</td>\n",
       "      <td>-0.083918</td>\n",
       "      <td>-0.115751</td>\n",
       "      <td>0.221643</td>\n",
       "      <td>-0.665609</td>\n",
       "      <td>...</td>\n",
       "      <td>0.091029</td>\n",
       "      <td>0.186854</td>\n",
       "      <td>0.496599</td>\n",
       "      <td>0.214640</td>\n",
       "      <td>0.943934</td>\n",
       "      <td>0.362070</td>\n",
       "      <td>1.330076</td>\n",
       "      <td>-0.363983</td>\n",
       "      <td>0.332685</td>\n",
       "      <td>1.195355</td>\n",
       "    </tr>\n",
       "    <tr>\n",
       "      <th>1142</th>\n",
       "      <td>-0.077041</td>\n",
       "      <td>1.191848</td>\n",
       "      <td>0.671904</td>\n",
       "      <td>-0.199625</td>\n",
       "      <td>-0.036134</td>\n",
       "      <td>1.297926</td>\n",
       "      <td>-0.083918</td>\n",
       "      <td>-0.115751</td>\n",
       "      <td>1.648136</td>\n",
       "      <td>0.878928</td>\n",
       "      <td>...</td>\n",
       "      <td>0.640781</td>\n",
       "      <td>0.227942</td>\n",
       "      <td>1.205983</td>\n",
       "      <td>0.236964</td>\n",
       "      <td>0.969974</td>\n",
       "      <td>2.847035</td>\n",
       "      <td>0.695862</td>\n",
       "      <td>3.315455</td>\n",
       "      <td>0.332685</td>\n",
       "      <td>1.195355</td>\n",
       "    </tr>\n",
       "    <tr>\n",
       "      <th>1143</th>\n",
       "      <td>-0.077041</td>\n",
       "      <td>-0.132471</td>\n",
       "      <td>0.123002</td>\n",
       "      <td>-0.288401</td>\n",
       "      <td>-0.048403</td>\n",
       "      <td>0.149864</td>\n",
       "      <td>-0.083918</td>\n",
       "      <td>-0.115751</td>\n",
       "      <td>-0.134981</td>\n",
       "      <td>0.106660</td>\n",
       "      <td>...</td>\n",
       "      <td>1.076510</td>\n",
       "      <td>-0.063081</td>\n",
       "      <td>0.868986</td>\n",
       "      <td>0.792198</td>\n",
       "      <td>0.226398</td>\n",
       "      <td>-0.635966</td>\n",
       "      <td>-0.468026</td>\n",
       "      <td>-0.363983</td>\n",
       "      <td>0.332685</td>\n",
       "      <td>1.195355</td>\n",
       "    </tr>\n",
       "  </tbody>\n",
       "</table>\n",
       "<p>1144 rows × 232 columns</p>\n",
       "</div>"
      ],
      "text/plain": [
       "         nBase   SpAbs_A   SpMax_A   SpMAD_A     VR1_A nAromAtom    nSpiro  \\\n",
       "0    -0.077041 -1.175105 -0.580433 -2.070914 -0.054329 -0.998199 -0.083918   \n",
       "1    -0.077041 -1.376970 -0.836554 -3.581231 -0.054800 -0.998199 -0.083918   \n",
       "2    -0.077041 -1.154972 -0.836554 -1.801990 -0.054342 -0.998199 -0.083918   \n",
       "3    -0.077041 -1.240858 -1.361255 -1.399434 -0.054718 -0.998199 -0.083918   \n",
       "4    -0.077041 -1.020541  0.206966 -2.679264 -0.053520 -0.998199 -0.083918   \n",
       "...        ...       ...       ...       ...       ...       ...       ...   \n",
       "1139 -0.077041  0.307854 -0.069105 -0.034574 -0.043812 -0.998199 -0.083918   \n",
       "1140 -0.077041  0.564533  0.932061 -0.076533 -0.042132  0.149864 -0.083918   \n",
       "1141 -0.077041  1.447647  0.824890  0.691743 -0.033104  2.063300 -0.083918   \n",
       "1142 -0.077041  1.191848  0.671904 -0.199625 -0.036134  1.297926 -0.083918   \n",
       "1143 -0.077041 -0.132471  0.123002 -0.288401 -0.048403  0.149864 -0.083918   \n",
       "\n",
       "     nBridgehead   nHetero        nN  ...      JGI3      JGI4      JGI5  \\\n",
       "0      -0.115751  0.221643 -0.665609  ... -1.863644 -1.447338 -1.141275   \n",
       "1      -0.115751 -0.134981 -0.665609  ... -1.863644 -1.447338 -1.141275   \n",
       "2      -0.115751  0.221643 -0.665609  ... -1.863644 -1.447338 -1.141275   \n",
       "3      -0.115751 -0.134981 -0.665609  ... -1.863644 -1.447338 -1.141275   \n",
       "4      -0.115751  0.934889 -0.665609  ... -1.863644 -1.447338 -1.141275   \n",
       "...          ...       ...       ...  ...       ...       ...       ...   \n",
       "1139   -0.115751  1.648136  0.106660  ... -0.238822 -0.483302 -0.067147   \n",
       "1140   -0.115751  0.934889  0.106660  ...  1.635311  0.094811  0.667960   \n",
       "1141   -0.115751  0.221643 -0.665609  ...  0.091029  0.186854  0.496599   \n",
       "1142   -0.115751  1.648136  0.878928  ...  0.640781  0.227942  1.205983   \n",
       "1143   -0.115751 -0.134981  0.106660  ...  1.076510 -0.063081  0.868986   \n",
       "\n",
       "          JGI6      JGI7      JGI8      JGI9     JGI10  Lipinski GhoseFilter  \n",
       "0    -0.938260 -0.792040 -0.635966 -0.468026 -0.363983  0.332685   -0.836571  \n",
       "1    -0.938260 -0.792040 -0.635966 -0.468026 -0.363983  0.332685   -0.836571  \n",
       "2    -0.938260 -0.792040 -0.635966 -0.468026 -0.363983  0.332685   -0.836571  \n",
       "3    -0.938260 -0.792040 -0.635966 -0.468026 -0.363983  0.332685   -0.836571  \n",
       "4    -0.938260 -0.792040 -0.635966 -0.468026 -0.363983  0.332685   -0.836571  \n",
       "...        ...       ...       ...       ...       ...       ...         ...  \n",
       "1139  0.924116  1.707763  0.978429  0.678936 -0.363983  0.332685    1.195355  \n",
       "1140  1.076249  1.045923  0.342555 -0.468026 -0.363983  0.332685    1.195355  \n",
       "1141  0.214640  0.943934  0.362070  1.330076 -0.363983  0.332685    1.195355  \n",
       "1142  0.236964  0.969974  2.847035  0.695862  3.315455  0.332685    1.195355  \n",
       "1143  0.792198  0.226398 -0.635966 -0.468026 -0.363983  0.332685    1.195355  \n",
       "\n",
       "[1144 rows x 232 columns]"
      ]
     },
     "execution_count": 7,
     "metadata": {},
     "output_type": "execute_result"
    }
   ],
   "source": [
    "scaled_DF"
   ]
  },
  {
   "cell_type": "markdown",
   "id": "ba3ba652",
   "metadata": {},
   "source": [
    "### Train-Test Split"
   ]
  },
  {
   "cell_type": "code",
   "execution_count": 8,
   "id": "a5d76d62",
   "metadata": {},
   "outputs": [],
   "source": [
    "X_train, X_test, y_train, y_test = train_test_split(scaled_DF, y, test_size=0.20, random_state=45)"
   ]
  },
  {
   "cell_type": "code",
   "execution_count": 9,
   "id": "94be4130",
   "metadata": {},
   "outputs": [
    {
     "data": {
      "text/html": [
       "<style>#sk-container-id-1 {color: black;}#sk-container-id-1 pre{padding: 0;}#sk-container-id-1 div.sk-toggleable {background-color: white;}#sk-container-id-1 label.sk-toggleable__label {cursor: pointer;display: block;width: 100%;margin-bottom: 0;padding: 0.3em;box-sizing: border-box;text-align: center;}#sk-container-id-1 label.sk-toggleable__label-arrow:before {content: \"▸\";float: left;margin-right: 0.25em;color: #696969;}#sk-container-id-1 label.sk-toggleable__label-arrow:hover:before {color: black;}#sk-container-id-1 div.sk-estimator:hover label.sk-toggleable__label-arrow:before {color: black;}#sk-container-id-1 div.sk-toggleable__content {max-height: 0;max-width: 0;overflow: hidden;text-align: left;background-color: #f0f8ff;}#sk-container-id-1 div.sk-toggleable__content pre {margin: 0.2em;color: black;border-radius: 0.25em;background-color: #f0f8ff;}#sk-container-id-1 input.sk-toggleable__control:checked~div.sk-toggleable__content {max-height: 200px;max-width: 100%;overflow: auto;}#sk-container-id-1 input.sk-toggleable__control:checked~label.sk-toggleable__label-arrow:before {content: \"▾\";}#sk-container-id-1 div.sk-estimator input.sk-toggleable__control:checked~label.sk-toggleable__label {background-color: #d4ebff;}#sk-container-id-1 div.sk-label input.sk-toggleable__control:checked~label.sk-toggleable__label {background-color: #d4ebff;}#sk-container-id-1 input.sk-hidden--visually {border: 0;clip: rect(1px 1px 1px 1px);clip: rect(1px, 1px, 1px, 1px);height: 1px;margin: -1px;overflow: hidden;padding: 0;position: absolute;width: 1px;}#sk-container-id-1 div.sk-estimator {font-family: monospace;background-color: #f0f8ff;border: 1px dotted black;border-radius: 0.25em;box-sizing: border-box;margin-bottom: 0.5em;}#sk-container-id-1 div.sk-estimator:hover {background-color: #d4ebff;}#sk-container-id-1 div.sk-parallel-item::after {content: \"\";width: 100%;border-bottom: 1px solid gray;flex-grow: 1;}#sk-container-id-1 div.sk-label:hover label.sk-toggleable__label {background-color: #d4ebff;}#sk-container-id-1 div.sk-serial::before {content: \"\";position: absolute;border-left: 1px solid gray;box-sizing: border-box;top: 0;bottom: 0;left: 50%;z-index: 0;}#sk-container-id-1 div.sk-serial {display: flex;flex-direction: column;align-items: center;background-color: white;padding-right: 0.2em;padding-left: 0.2em;position: relative;}#sk-container-id-1 div.sk-item {position: relative;z-index: 1;}#sk-container-id-1 div.sk-parallel {display: flex;align-items: stretch;justify-content: center;background-color: white;position: relative;}#sk-container-id-1 div.sk-item::before, #sk-container-id-1 div.sk-parallel-item::before {content: \"\";position: absolute;border-left: 1px solid gray;box-sizing: border-box;top: 0;bottom: 0;left: 50%;z-index: -1;}#sk-container-id-1 div.sk-parallel-item {display: flex;flex-direction: column;z-index: 1;position: relative;background-color: white;}#sk-container-id-1 div.sk-parallel-item:first-child::after {align-self: flex-end;width: 50%;}#sk-container-id-1 div.sk-parallel-item:last-child::after {align-self: flex-start;width: 50%;}#sk-container-id-1 div.sk-parallel-item:only-child::after {width: 0;}#sk-container-id-1 div.sk-dashed-wrapped {border: 1px dashed gray;margin: 0 0.4em 0.5em 0.4em;box-sizing: border-box;padding-bottom: 0.4em;background-color: white;}#sk-container-id-1 div.sk-label label {font-family: monospace;font-weight: bold;display: inline-block;line-height: 1.2em;}#sk-container-id-1 div.sk-label-container {text-align: center;}#sk-container-id-1 div.sk-container {/* jupyter's `normalize.less` sets `[hidden] { display: none; }` but bootstrap.min.css set `[hidden] { display: none !important; }` so we also need the `!important` here to be able to override the default hidden behavior on the sphinx rendered scikit-learn.org. See: https://github.com/scikit-learn/scikit-learn/issues/21755 */display: inline-block !important;position: relative;}#sk-container-id-1 div.sk-text-repr-fallback {display: none;}</style><div id=\"sk-container-id-1\" class=\"sk-top-container\"><div class=\"sk-text-repr-fallback\"><pre>LinearRegression()</pre><b>In a Jupyter environment, please rerun this cell to show the HTML representation or trust the notebook. <br />On GitHub, the HTML representation is unable to render, please try loading this page with nbviewer.org.</b></div><div class=\"sk-container\" hidden><div class=\"sk-item\"><div class=\"sk-estimator sk-toggleable\"><input class=\"sk-toggleable__control sk-hidden--visually\" id=\"sk-estimator-id-1\" type=\"checkbox\" checked><label for=\"sk-estimator-id-1\" class=\"sk-toggleable__label sk-toggleable__label-arrow\">LinearRegression</label><div class=\"sk-toggleable__content\"><pre>LinearRegression()</pre></div></div></div></div></div>"
      ],
      "text/plain": [
       "LinearRegression()"
      ]
     },
     "execution_count": 9,
     "metadata": {},
     "output_type": "execute_result"
    }
   ],
   "source": [
    "lr = LinearRegression()\n",
    "lr.fit(X_train, y_train)"
   ]
  },
  {
   "cell_type": "code",
   "execution_count": 10,
   "id": "dfee9679",
   "metadata": {},
   "outputs": [
    {
     "name": "stdout",
     "output_type": "stream",
     "text": [
      "The r2 score for train set is : 0.9413588958299217\n",
      "The r2 score for test set is : 0.2819539386413863\n"
     ]
    }
   ],
   "source": [
    "print(f'The r2 score for train set is : {lr.score(X_train, y_train)}')\n",
    "print(f'The r2 score for test set is : {lr.score(X_test, y_test)}')"
   ]
  },
  {
   "cell_type": "code",
   "execution_count": 11,
   "id": "2e7692f4",
   "metadata": {},
   "outputs": [
    {
     "data": {
      "text/html": [
       "<style>#sk-container-id-2 {color: black;}#sk-container-id-2 pre{padding: 0;}#sk-container-id-2 div.sk-toggleable {background-color: white;}#sk-container-id-2 label.sk-toggleable__label {cursor: pointer;display: block;width: 100%;margin-bottom: 0;padding: 0.3em;box-sizing: border-box;text-align: center;}#sk-container-id-2 label.sk-toggleable__label-arrow:before {content: \"▸\";float: left;margin-right: 0.25em;color: #696969;}#sk-container-id-2 label.sk-toggleable__label-arrow:hover:before {color: black;}#sk-container-id-2 div.sk-estimator:hover label.sk-toggleable__label-arrow:before {color: black;}#sk-container-id-2 div.sk-toggleable__content {max-height: 0;max-width: 0;overflow: hidden;text-align: left;background-color: #f0f8ff;}#sk-container-id-2 div.sk-toggleable__content pre {margin: 0.2em;color: black;border-radius: 0.25em;background-color: #f0f8ff;}#sk-container-id-2 input.sk-toggleable__control:checked~div.sk-toggleable__content {max-height: 200px;max-width: 100%;overflow: auto;}#sk-container-id-2 input.sk-toggleable__control:checked~label.sk-toggleable__label-arrow:before {content: \"▾\";}#sk-container-id-2 div.sk-estimator input.sk-toggleable__control:checked~label.sk-toggleable__label {background-color: #d4ebff;}#sk-container-id-2 div.sk-label input.sk-toggleable__control:checked~label.sk-toggleable__label {background-color: #d4ebff;}#sk-container-id-2 input.sk-hidden--visually {border: 0;clip: rect(1px 1px 1px 1px);clip: rect(1px, 1px, 1px, 1px);height: 1px;margin: -1px;overflow: hidden;padding: 0;position: absolute;width: 1px;}#sk-container-id-2 div.sk-estimator {font-family: monospace;background-color: #f0f8ff;border: 1px dotted black;border-radius: 0.25em;box-sizing: border-box;margin-bottom: 0.5em;}#sk-container-id-2 div.sk-estimator:hover {background-color: #d4ebff;}#sk-container-id-2 div.sk-parallel-item::after {content: \"\";width: 100%;border-bottom: 1px solid gray;flex-grow: 1;}#sk-container-id-2 div.sk-label:hover label.sk-toggleable__label {background-color: #d4ebff;}#sk-container-id-2 div.sk-serial::before {content: \"\";position: absolute;border-left: 1px solid gray;box-sizing: border-box;top: 0;bottom: 0;left: 50%;z-index: 0;}#sk-container-id-2 div.sk-serial {display: flex;flex-direction: column;align-items: center;background-color: white;padding-right: 0.2em;padding-left: 0.2em;position: relative;}#sk-container-id-2 div.sk-item {position: relative;z-index: 1;}#sk-container-id-2 div.sk-parallel {display: flex;align-items: stretch;justify-content: center;background-color: white;position: relative;}#sk-container-id-2 div.sk-item::before, #sk-container-id-2 div.sk-parallel-item::before {content: \"\";position: absolute;border-left: 1px solid gray;box-sizing: border-box;top: 0;bottom: 0;left: 50%;z-index: -1;}#sk-container-id-2 div.sk-parallel-item {display: flex;flex-direction: column;z-index: 1;position: relative;background-color: white;}#sk-container-id-2 div.sk-parallel-item:first-child::after {align-self: flex-end;width: 50%;}#sk-container-id-2 div.sk-parallel-item:last-child::after {align-self: flex-start;width: 50%;}#sk-container-id-2 div.sk-parallel-item:only-child::after {width: 0;}#sk-container-id-2 div.sk-dashed-wrapped {border: 1px dashed gray;margin: 0 0.4em 0.5em 0.4em;box-sizing: border-box;padding-bottom: 0.4em;background-color: white;}#sk-container-id-2 div.sk-label label {font-family: monospace;font-weight: bold;display: inline-block;line-height: 1.2em;}#sk-container-id-2 div.sk-label-container {text-align: center;}#sk-container-id-2 div.sk-container {/* jupyter's `normalize.less` sets `[hidden] { display: none; }` but bootstrap.min.css set `[hidden] { display: none !important; }` so we also need the `!important` here to be able to override the default hidden behavior on the sphinx rendered scikit-learn.org. See: https://github.com/scikit-learn/scikit-learn/issues/21755 */display: inline-block !important;position: relative;}#sk-container-id-2 div.sk-text-repr-fallback {display: none;}</style><div id=\"sk-container-id-2\" class=\"sk-top-container\"><div class=\"sk-text-repr-fallback\"><pre>RandomForestRegressor()</pre><b>In a Jupyter environment, please rerun this cell to show the HTML representation or trust the notebook. <br />On GitHub, the HTML representation is unable to render, please try loading this page with nbviewer.org.</b></div><div class=\"sk-container\" hidden><div class=\"sk-item\"><div class=\"sk-estimator sk-toggleable\"><input class=\"sk-toggleable__control sk-hidden--visually\" id=\"sk-estimator-id-2\" type=\"checkbox\" checked><label for=\"sk-estimator-id-2\" class=\"sk-toggleable__label sk-toggleable__label-arrow\">RandomForestRegressor</label><div class=\"sk-toggleable__content\"><pre>RandomForestRegressor()</pre></div></div></div></div></div>"
      ],
      "text/plain": [
       "RandomForestRegressor()"
      ]
     },
     "execution_count": 11,
     "metadata": {},
     "output_type": "execute_result"
    }
   ],
   "source": [
    "rf = RandomForestRegressor()\n",
    "rf.fit(X_train, y_train)"
   ]
  },
  {
   "cell_type": "code",
   "execution_count": 12,
   "id": "94e06346",
   "metadata": {},
   "outputs": [
    {
     "name": "stdout",
     "output_type": "stream",
     "text": [
      "The r2 score for train set is : 0.9849028775922336\n",
      "The r2 score for test set is : 0.8800801519289296\n"
     ]
    }
   ],
   "source": [
    "print(f'The r2 score for train set is : {rf.score(X_train, y_train)}')\n",
    "print(f'The r2 score for test set is : {rf.score(X_test, y_test)}')"
   ]
  },
  {
   "cell_type": "code",
   "execution_count": 13,
   "id": "cd8a22dc",
   "metadata": {},
   "outputs": [
    {
     "data": {
      "text/plain": [
       "(array([0, 1, 2, 3, 4, 5]),\n",
       " [Text(0, 0, 'FilterItLogS'),\n",
       "  Text(1, 0, 'Lipinski'),\n",
       "  Text(2, 0, 'SIC0'),\n",
       "  Text(3, 0, 'RNCG'),\n",
       "  Text(4, 0, 'RPCG'),\n",
       "  Text(5, 0, 'ATS0Z')])"
      ]
     },
     "execution_count": 13,
     "metadata": {},
     "output_type": "execute_result"
    },
    {
     "data": {
      "image/png": "[encoded data removed]",
      "text/plain": [
       "<Figure size 600x600 with 1 Axes>"
      ]
     },
     "metadata": {},
     "output_type": "display_data"
    }
   ],
   "source": [
    "# get importance\n",
    "importance = rf.feature_importances_\n",
    "# summarize feature importance\n",
    "dicts = {\n",
    "    'Features':[x for x in df_final.iloc[:,3:].columns], #dictionary containing the names of the features ('Features')\n",
    "    'Importance':importance #their corresponding importance scores ('Importance').\n",
    "    }\n",
    "DF_imp = pd.DataFrame(dicts)\n",
    "DF_imp = DF_imp.sort_values('Importance',ascending=False) #arranging features from most to least important\n",
    "DF_imp.to_excel('imp.xlsx', index=None)\n",
    "\n",
    "# plot feature importance\n",
    "top_desc_fi = DF_imp[:6]  #selects the top 6 features with the highest importance scores\n",
    "plt.subplots(figsize=(6,6))\n",
    "sns.barplot(data=top_desc_fi, x = 'Features', y='Importance', palette = 'Set2')\n",
    "# plt.bar('Feature','Importance',data = DF_imp.iloc[:7,:])\n",
    "plt.xticks(rotation = 90)"
   ]
  },
  {
   "cell_type": "code",
   "execution_count": 14,
   "id": "4fcdcf36",
   "metadata": {},
   "outputs": [],
   "source": [
    "from sklearn.inspection import permutation_importance"
   ]
  },
  {
   "cell_type": "code",
   "execution_count": 15,
   "id": "33027239",
   "metadata": {},
   "outputs": [
    {
     "data": {
      "image/png": "[encoded data removed]",
      "text/plain": [
       "<Figure size 640x480 with 1 Axes>"
      ]
     },
     "metadata": {},
     "output_type": "display_data"
    }
   ],
   "source": [
    "result = permutation_importance(\n",
    "    rf, X_test, y_test, random_state=42)\n",
    "\n",
    "dicts = {\n",
    "    'Features':[x for x in df_final.iloc[:,3:].columns],\n",
    "    'Importance':result.importances_mean\n",
    "}\n",
    "DF_pi = pd.DataFrame(dicts)\n",
    "DF_pi = DF_pi.sort_values('Importance',ascending=False) #please note in the video there was a mistake\n",
    "# In the line just above this comment, there was a typo which has been corrected in here.\n",
    "# In the video it was DF_imp.sort_values('Importance', ascending=False) which was incorrect.\n",
    "DF_pi.to_excel('imp.xlsx', index=None)\n",
    "\n",
    "# plot feature importance\n",
    "top_desc_pi = DF_pi[:6]\n",
    "sns.barplot(data=top_desc_pi, x = 'Features', y='Importance', palette = 'Set2')\n",
    "# plt.bar('Feature','Importance',data = DF_imp.iloc[:7,:])\n",
    "plt.xticks(rotation = 90)\n",
    "plt.show()"
   ]
  },
  {
   "cell_type": "code",
   "execution_count": 16,
   "id": "d76d588b",
   "metadata": {},
   "outputs": [
    {
     "data": {
      "text/html": [
       "<div>\n",
       "<style scoped>\n",
       "    .dataframe tbody tr th:only-of-type {\n",
       "        vertical-align: middle;\n",
       "    }\n",
       "\n",
       "    .dataframe tbody tr th {\n",
       "        vertical-align: top;\n",
       "    }\n",
       "\n",
       "    .dataframe thead th {\n",
       "        text-align: right;\n",
       "    }\n",
       "</style>\n",
       "<table border=\"1\" class=\"dataframe\">\n",
       "  <thead>\n",
       "    <tr style=\"text-align: right;\">\n",
       "      <th></th>\n",
       "      <th>Features</th>\n",
       "      <th>Importance</th>\n",
       "    </tr>\n",
       "  </thead>\n",
       "  <tbody>\n",
       "    <tr>\n",
       "      <th>154</th>\n",
       "      <td>FilterItLogS</td>\n",
       "      <td>1.033112</td>\n",
       "    </tr>\n",
       "    <tr>\n",
       "      <th>152</th>\n",
       "      <td>SIC0</td>\n",
       "      <td>0.045119</td>\n",
       "    </tr>\n",
       "    <tr>\n",
       "      <th>230</th>\n",
       "      <td>Lipinski</td>\n",
       "      <td>0.027387</td>\n",
       "    </tr>\n",
       "    <tr>\n",
       "      <th>97</th>\n",
       "      <td>RNCG</td>\n",
       "      <td>0.022350</td>\n",
       "    </tr>\n",
       "    <tr>\n",
       "      <th>17</th>\n",
       "      <td>ATS0Z</td>\n",
       "      <td>0.005056</td>\n",
       "    </tr>\n",
       "  </tbody>\n",
       "</table>\n",
       "</div>"
      ],
      "text/plain": [
       "         Features  Importance\n",
       "154  FilterItLogS    1.033112\n",
       "152          SIC0    0.045119\n",
       "230      Lipinski    0.027387\n",
       "97           RNCG    0.022350\n",
       "17          ATS0Z    0.005056"
      ]
     },
     "execution_count": 16,
     "metadata": {},
     "output_type": "execute_result"
    }
   ],
   "source": [
    "DF_pi.head()"
   ]
  },
  {
   "cell_type": "code",
   "execution_count": 17,
   "id": "2e74da92",
   "metadata": {},
   "outputs": [],
   "source": [
    "%%capture\n",
    "!pip install shap -q"
   ]
  },
  {
   "cell_type": "code",
   "execution_count": 18,
   "id": "4c3a06f7",
   "metadata": {},
   "outputs": [
    {
     "name": "stdout",
     "output_type": "stream",
     "text": [
      "Requirement already satisfied: numpy==1.24 in /home/harshini_menta/anaconda3/lib/python3.11/site-packages (1.24.0)\n",
      "Note: you may need to restart the kernel to use updated packages.\n"
     ]
    }
   ],
   "source": [
    "pip install numpy==1.24"
   ]
  },
  {
   "cell_type": "code",
   "execution_count": 19,
   "id": "348696fe",
   "metadata": {},
   "outputs": [],
   "source": [
    "# SHAP (SHapley Additive exPlanations) library to visualize the summary plot of SHAP values for a random forest\n",
    "import shap"
   ]
  },
  {
   "cell_type": "code",
   "execution_count": 20,
   "id": "b9583e6d",
   "metadata": {},
   "outputs": [
    {
     "data": {
      "text/plain": [
       "array([[ 1.89597214e-08, -7.67033108e-03, -1.06707698e-02, ...,\n",
       "         7.61009167e-04, -6.91331284e-01, -6.65864628e-03],\n",
       "       [ 1.88175241e-08,  1.20859522e-02,  2.53605579e-03, ...,\n",
       "         2.36023607e-03,  1.49016976e-01, -1.67031408e-05],\n",
       "       [ 5.17538914e-09, -1.04065490e-02, -3.90964920e-02, ...,\n",
       "        -1.26741896e-03, -2.83173554e-01, -4.84739794e-04],\n",
       "       ...,\n",
       "       [ 3.16094983e-09,  7.06318676e-03, -7.39840416e-03, ...,\n",
       "         1.42615471e-03,  1.43044255e-01,  3.50480740e-04],\n",
       "       [ 5.61549619e-09, -7.11706515e-03, -7.69291033e-03, ...,\n",
       "         6.06906509e-04,  6.14974399e-02, -1.25629943e-04],\n",
       "       [ 3.92852746e-08,  5.30733436e-03,  1.08195732e-02, ...,\n",
       "         3.97282869e-04,  6.67414259e-02, -8.52722519e-05]])"
      ]
     },
     "execution_count": 20,
     "metadata": {},
     "output_type": "execute_result"
    }
   ],
   "source": [
    "explainer = shap.TreeExplainer(rf)\n",
    "shap_values = explainer.shap_values(X_test)\n",
    "shap_values"
   ]
  },
  {
   "cell_type": "code",
   "execution_count": 21,
   "id": "b54f095e",
   "metadata": {},
   "outputs": [
    {
     "data": {
      "image/png": "[encoded data removed]",
      "text/plain": [
       "<Figure size 800x950 with 2 Axes>"
      ]
     },
     "metadata": {},
     "output_type": "display_data"
    }
   ],
   "source": [
    "shap.summary_plot(shap_values, X_test)"
   ]
  },
  {
   "cell_type": "markdown",
   "id": "87e4ebe7",
   "metadata": {},
   "source": [
    "### Model Evalualtion with Reduced Features"
   ]
  },
  {
   "cell_type": "code",
   "execution_count": 22,
   "id": "922652fc",
   "metadata": {},
   "outputs": [
    {
     "data": {
      "text/plain": [
       "154    FilterItLogS\n",
       "230        Lipinski\n",
       "152            SIC0\n",
       "97             RNCG\n",
       "98             RPCG\n",
       "Name: Features, dtype: object"
      ]
     },
     "execution_count": 22,
     "metadata": {},
     "output_type": "execute_result"
    }
   ],
   "source": [
    "top_desc_fi['Features'][:5]"
   ]
  },
  {
   "cell_type": "code",
   "execution_count": 23,
   "id": "1a215fc2",
   "metadata": {},
   "outputs": [],
   "source": [
    "scaled_DF_5 = scaled_DF[top_desc_fi['Features'][:5]]"
   ]
  },
  {
   "cell_type": "code",
   "execution_count": 24,
   "id": "1fcf3df3",
   "metadata": {},
   "outputs": [
    {
     "data": {
      "text/html": [
       "<div>\n",
       "<style scoped>\n",
       "    .dataframe tbody tr th:only-of-type {\n",
       "        vertical-align: middle;\n",
       "    }\n",
       "\n",
       "    .dataframe tbody tr th {\n",
       "        vertical-align: top;\n",
       "    }\n",
       "\n",
       "    .dataframe thead tr th {\n",
       "        text-align: left;\n",
       "    }\n",
       "</style>\n",
       "<table border=\"1\" class=\"dataframe\">\n",
       "  <thead>\n",
       "    <tr>\n",
       "      <th></th>\n",
       "      <th>FilterItLogS</th>\n",
       "      <th>Lipinski</th>\n",
       "      <th>SIC0</th>\n",
       "      <th>RNCG</th>\n",
       "      <th>RPCG</th>\n",
       "    </tr>\n",
       "  </thead>\n",
       "  <tbody>\n",
       "    <tr>\n",
       "      <th>0</th>\n",
       "      <td>0.021772</td>\n",
       "      <td>0.332685</td>\n",
       "      <td>1.784579</td>\n",
       "      <td>0.033750</td>\n",
       "      <td>3.187876</td>\n",
       "    </tr>\n",
       "    <tr>\n",
       "      <th>1</th>\n",
       "      <td>0.376467</td>\n",
       "      <td>0.332685</td>\n",
       "      <td>1.993944</td>\n",
       "      <td>-0.070165</td>\n",
       "      <td>4.534268</td>\n",
       "    </tr>\n",
       "    <tr>\n",
       "      <th>2</th>\n",
       "      <td>0.213155</td>\n",
       "      <td>0.332685</td>\n",
       "      <td>1.784579</td>\n",
       "      <td>-0.406439</td>\n",
       "      <td>1.169029</td>\n",
       "    </tr>\n",
       "    <tr>\n",
       "      <th>3</th>\n",
       "      <td>0.367089</td>\n",
       "      <td>0.332685</td>\n",
       "      <td>1.993944</td>\n",
       "      <td>0.263581</td>\n",
       "      <td>1.436776</td>\n",
       "    </tr>\n",
       "    <tr>\n",
       "      <th>4</th>\n",
       "      <td>0.089296</td>\n",
       "      <td>0.332685</td>\n",
       "      <td>1.993944</td>\n",
       "      <td>-0.255165</td>\n",
       "      <td>3.019216</td>\n",
       "    </tr>\n",
       "  </tbody>\n",
       "</table>\n",
       "</div>"
      ],
      "text/plain": [
       "  FilterItLogS  Lipinski      SIC0      RNCG      RPCG\n",
       "0     0.021772  0.332685  1.784579  0.033750  3.187876\n",
       "1     0.376467  0.332685  1.993944 -0.070165  4.534268\n",
       "2     0.213155  0.332685  1.784579 -0.406439  1.169029\n",
       "3     0.367089  0.332685  1.993944  0.263581  1.436776\n",
       "4     0.089296  0.332685  1.993944 -0.255165  3.019216"
      ]
     },
     "execution_count": 24,
     "metadata": {},
     "output_type": "execute_result"
    }
   ],
   "source": [
    "scaled_DF_5.head()"
   ]
  },
  {
   "cell_type": "code",
   "execution_count": 25,
   "id": "7e0ee0cd",
   "metadata": {},
   "outputs": [
    {
     "data": {
      "text/plain": [
       "0      -2.180\n",
       "1      -2.000\n",
       "2      -1.740\n",
       "3      -1.480\n",
       "4      -3.040\n",
       "        ...  \n",
       "1139    1.144\n",
       "1140   -4.925\n",
       "1141   -3.893\n",
       "1142   -3.790\n",
       "1143   -2.581\n",
       "Name: measured log(solubility:mol/L), Length: 1144, dtype: float64"
      ]
     },
     "execution_count": 25,
     "metadata": {},
     "output_type": "execute_result"
    }
   ],
   "source": [
    "y"
   ]
  },
  {
   "cell_type": "code",
   "execution_count": null,
   "id": "a29742ec",
   "metadata": {},
   "outputs": [],
   "source": []
  }
 ],
 "metadata": {
  "kernelspec": {
   "display_name": "Python 3 (ipykernel)",
   "language": "python",
   "name": "python3"
  },
  "language_info": {
   "codemirror_mode": {
    "name": "ipython",
    "version": 3
   },
   "file_extension": ".py",
   "mimetype": "text/x-python",
   "name": "python",
   "nbconvert_exporter": "python",
   "pygments_lexer": "ipython3",
   "version": "3.11.5"
  }
 },
 "nbformat": 4,
 "nbformat_minor": 5
}
